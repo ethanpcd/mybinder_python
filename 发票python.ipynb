{
 "cells": [
  {
   "cell_type": "code",
   "execution_count": 1,
   "metadata": {},
   "outputs": [],
   "source": [
    "import requests \n",
    "from lxml import etree \n",
    "import re\n",
    "import time\n",
    "import pandas as pd\n",
    "from pandas import DataFrame\n",
    "import os\n",
    "from openpyxl import load_workbook"
   ]
  },
  {
   "cell_type": "code",
   "execution_count": 2,
   "metadata": {},
   "outputs": [],
   "source": [
    "tp=pd.read_excel(r\"C:\\Users\\Administrator\\Desktop\\dailywork\\1.xlsx\",sheet_name=None)\n",
    "null=pd.DataFrame()"
   ]
  },
  {
   "cell_type": "code",
   "execution_count": 3,
   "metadata": {},
   "outputs": [
    {
     "data": {
      "text/plain": [
       "\"\\nget all sheet names:\\ndf = pd.read_excel('自己的Excel文件路径.xlsx', sheet_name=None)  # 路径注意转义,会生成字典文件，字典中每个值都是dataframe格式的 \\nfor i in df.keys():\\n   print(i)\\nor\\ndf = pd.read_excel('自己的Excel文件路径.xlsx', sheet_name=None)\\nprint(list(df))nihao\\n\""
      ]
     },
     "execution_count": 3,
     "metadata": {},
     "output_type": "execute_result"
    }
   ],
   "source": [
    "data={}\n",
    "'''\n",
    "get all sheet names:\n",
    "df = pd.read_excel('自己的Excel文件路径.xlsx', sheet_name=None)  # 路径注意转义,会生成字典文件，字典中每个值都是dataframe格式的 \n",
    "for i in df.keys():\n",
    "   print(i)\n",
    "or\n",
    "df = pd.read_excel('自己的Excel文件路径.xlsx', sheet_name=None)\n",
    "print(list(df))nihao\n",
    "'''"
   ]
  },
  {
   "cell_type": "code",
   "execution_count": 8,
   "metadata": {},
   "outputs": [],
   "source": [
    "for i in tp.keys():\n",
    "    NO=1\n",
    "    data[i+'-'+str(NO)]=pd.DataFrame(columns=['序号', '货物或应税劳务、服务名称','计量单位','规格型号','数量','金额','税率','商品税目','折扣金额','税额','折扣税额','折扣率','单价','价格方式','税收分类编码版本号','税收分类编码','企业商品编码','使用优惠政策标识','零税率标识','优惠政策说明','中外合作油气田标识'])\n",
    "    sheet_name=i\n",
    "    a=tp[i]\n",
    "    length=a.shape[0]-1\n",
    "    section=0\n",
    "    total=0\n",
    "    mark=0\n",
    "    for j in range(length):\n",
    "        tag=a.iloc[j,1]\n",
    "        model=a.iloc[j,2]\n",
    "        number=a.iloc[j,4]\n",
    "        price_sum=round(float(a.iloc[j,9]),2)\n",
    "        #tax = '%.2f' % (round(price_sum/1.13*0.13,2))\n",
    "        tax=round(price_sum/1.13*0.13,2)\n",
    "        price_per=round(price_sum/number,2)\n",
    "        section=round(section+price_sum,2)\n",
    "        if section < 11300000:\n",
    "            data[i+'-'+str(NO)].at[j-mark,'序号']=j-mark+1\n",
    "            data[i+'-'+str(NO)].at[j-mark,'货物或应税劳务、服务名称']=tag\n",
    "            data[i+'-'+str(NO)].at[j-mark,'计量单位']='套'\n",
    "            data[i+'-'+str(NO)].at[j-mark,'规格型号']=model\n",
    "            data[i+'-'+str(NO)].at[j-mark,'数量']=number\n",
    "            data[i+'-'+str(NO)].at[j-mark,'金额']='%.2f' % price_sum\n",
    "            data[i+'-'+str(NO)].at[j-mark,'税率']='0.13'\n",
    "            data[i+'-'+str(NO)].at[j-mark,'税额']='%.2f' % tax\n",
    "            data[i+'-'+str(NO)].at[j-mark,'单价']='%.2f' % price_per\n",
    "            data[i+'-'+str(NO)].at[j-mark,'价格方式']='1'\n",
    "            data[i+'-'+str(NO)].at[j-mark,'税收分类编码版本号']='20'\n",
    "            if tag !='洗衣机组件':\n",
    "                data[i+'-'+str(NO)].at[j-mark,'税收分类编码']='1090421020000000000'\n",
    "            else:\n",
    "                data[i+'-'+str(NO)].at[j-mark,'税收分类编码']='1090421030000000000'\n",
    "            data[i+'-'+str(NO)].at[j-mark,'使用优惠政策标识']='0'\n",
    "            data[i+'-'+str(NO)].at[j-mark,'中外合作油气田标识']='0'\n",
    "        else:\n",
    "            total+=section-price_sum\n",
    "            section=price_sum\n",
    "            mark=j\n",
    "            NO+=1\n",
    "            data[i+'-'+str(NO)]=pd.DataFrame(columns=['序号', '货物或应税劳务、服务名称','计量单位','规格型号','数量','金额','税率','商品税目','折扣金额','税额','折扣税额','折扣率','单价','价格方式','税收分类编码版本号','税收分类编码','企业商品编码','使用优惠政策标识','零税率标识','优惠政策说明','中外合作油气田标识'])\n",
    "            data[i+'-'+str(NO)].at[0,'序号']=1\n",
    "            data[i+'-'+str(NO)].at[0,'货物或应税劳务、服务名称']=tag\n",
    "            data[i+'-'+str(NO)].at[0,'计量单位']='套'\n",
    "            data[i+'-'+str(NO)].at[0,'规格型号']=model\n",
    "            data[i+'-'+str(NO)].at[0,'数量']=number\n",
    "            data[i+'-'+str(NO)].at[0,'金额']='%.2f' % price_sum\n",
    "            data[i+'-'+str(NO)].at[0,'税率']='0.13'\n",
    "            data[i+'-'+str(NO)].at[0,'税额']='%.2f' % tax\n",
    "            data[i+'-'+str(NO)].at[0,'单价']='%.2f' % price_per\n",
    "            data[i+'-'+str(NO)].at[0,'价格方式']='1'\n",
    "            data[i+'-'+str(NO)].at[0,'税收分类编码版本号']='20'\n",
    "            if tag =='冰箱组件'or '冷柜组件':\n",
    "                data[i+'-'+str(NO)].at[0,'税收分类编码']='1090421020000000000'\n",
    "            else:\n",
    "                data[i+'-'+str(NO)].at[0,'税收分类编码']='1090421030000000000'\n",
    "            data[i+'-'+str(NO)].at[0,'使用优惠政策标识']='0'\n",
    "            data[i+'-'+str(NO)].at[0,'中外合作油气田标识']='0'\n",
    "\n",
    "    name=i+\".xlsx\"\n",
    "    null.to_excel(name)\n",
    "    writer=pd.ExcelWriter(name)\n",
    "    for r in range(1,NO):\n",
    "        data[i+'-'+str(r)].to_excel(writer,sheet_name=i+'-'+str(r))\n",
    "    writer.save()\n",
    "    writer.close()"
   ]
  },
  {
   "cell_type": "code",
   "execution_count": 65,
   "metadata": {
    "collapsed": true
   },
   "outputs": [
    {
     "name": "stdout",
     "output_type": "stream",
     "text": [
      "{'南通1-1':     序号 货物或应税劳务、服务名称 计量单位             规格型号    数量           金额    税率 商品税目 折扣金额  \\\n",
      "0    0         冰箱组件    套        5GW45DB-T    28      38515.1  0.13  NaN  NaN   \n",
      "1    1         冰箱组件    套  BCD-300EGX4SU-T   976  1.08755e+06  0.13  NaN  NaN   \n",
      "2    2         冰箱组件    套  BCD-308WEGX4S-T     1      1302.03  0.13  NaN  NaN   \n",
      "3    3         冰箱组件    套  BCD-309WD4EGL-T     5      6572.15  0.13  NaN  NaN   \n",
      "4    4         冰箱组件    套  BCD-311WD4EBL-T  1024   1.4878e+06  0.13  NaN  NaN   \n",
      "..  ..          ...  ...              ...   ...          ...   ...  ...  ...   \n",
      "69  69        洗衣机组件    套    XQB70-10D0B-T  1066       507405  0.13  NaN  NaN   \n",
      "70  70        洗衣机组件    套    XQB90-1215G-T     2      1446.24  0.13  NaN  NaN   \n",
      "71  71        洗衣机组件    套    BCD-207GB3S-T     2      1422.92  0.13  NaN  NaN   \n",
      "72  72        洗衣机组件    套   BCD-400EGX5S-T     4      4959.72  0.13  NaN  NaN   \n",
      "73  73        洗衣机组件    套  BCD-602WEGY5S-T     6      12238.4  0.13  NaN  NaN   \n",
      "\n",
      "         税额  ...  折扣率       单价 价格方式 税收分类编码版本号               税收分类编码 企业商品编码  \\\n",
      "0   1407.96  ...  NaN  1375.54    1        20  1090421020000000000    NaN   \n",
      "1   1407.96  ...  NaN  1114.29    1        20  1090421020000000000    NaN   \n",
      "2   1407.96  ...  NaN  1302.03    1        20  1090421020000000000    NaN   \n",
      "3   1407.96  ...  NaN  1314.43    1        20  1090421020000000000    NaN   \n",
      "4   1407.96  ...  NaN  1452.93    1        20  1090421020000000000    NaN   \n",
      "..      ...  ...  ...      ...  ...       ...                  ...    ...   \n",
      "69  1407.96  ...  NaN   475.99    1        20  1090421020000000000    NaN   \n",
      "70  1407.96  ...  NaN   723.12    1        20  1090421020000000000    NaN   \n",
      "71  1407.96  ...  NaN   711.46    1        20  1090421020000000000    NaN   \n",
      "72  1407.96  ...  NaN  1239.93    1        20  1090421020000000000    NaN   \n",
      "73  1407.96  ...  NaN  2039.74    1        20  1090421020000000000    NaN   \n",
      "\n",
      "   使用优惠政策标识 零税率标识 优惠政策说明 中外合作油气田标识  \n",
      "0         0   NaN    NaN         0  \n",
      "1         0   NaN    NaN         0  \n",
      "2         0   NaN    NaN         0  \n",
      "3         0   NaN    NaN         0  \n",
      "4         0   NaN    NaN         0  \n",
      "..      ...   ...    ...       ...  \n",
      "69        0   NaN    NaN         0  \n",
      "70        0   NaN    NaN         0  \n",
      "71        0   NaN    NaN         0  \n",
      "72        0   NaN    NaN         0  \n",
      "73        0   NaN    NaN         0  \n",
      "\n",
      "[74 rows x 21 columns], '智创2-1':     序号 货物或应税劳务、服务名称 计量单位             规格型号    数量           金额    税率 商品税目 折扣金额  \\\n",
      "0    0         冰箱组件    套        5GW45DB-T    28      38515.1  0.13  NaN  NaN   \n",
      "1    1         冰箱组件    套  BCD-300EGX4SU-T   976  1.08755e+06  0.13  NaN  NaN   \n",
      "2    2         冰箱组件    套  BCD-308WEGX4S-T     1      1302.03  0.13  NaN  NaN   \n",
      "3    3         冰箱组件    套  BCD-309WD4EGL-T     5      6572.15  0.13  NaN  NaN   \n",
      "4    4         冰箱组件    套  BCD-311WD4EBL-T  1024   1.4878e+06  0.13  NaN  NaN   \n",
      "..  ..          ...  ...              ...   ...          ...   ...  ...  ...   \n",
      "69  69        洗衣机组件    套    XQB70-10D0B-T  1066       507405  0.13  NaN  NaN   \n",
      "70  70        洗衣机组件    套    XQB90-1215G-T     2      1446.24  0.13  NaN  NaN   \n",
      "71  71        洗衣机组件    套    BCD-207GB3S-T     2      1422.92  0.13  NaN  NaN   \n",
      "72  72        洗衣机组件    套   BCD-400EGX5S-T     4      4959.72  0.13  NaN  NaN   \n",
      "73  73        洗衣机组件    套  BCD-602WEGY5S-T     6      12238.4  0.13  NaN  NaN   \n",
      "\n",
      "         税额  ...  折扣率       单价 价格方式 税收分类编码版本号               税收分类编码 企业商品编码  \\\n",
      "0   1407.96  ...  NaN  1375.54    1        20  1090421020000000000    NaN   \n",
      "1   1407.96  ...  NaN  1114.29    1        20  1090421020000000000    NaN   \n",
      "2   1407.96  ...  NaN  1302.03    1        20  1090421020000000000    NaN   \n",
      "3   1407.96  ...  NaN  1314.43    1        20  1090421020000000000    NaN   \n",
      "4   1407.96  ...  NaN  1452.93    1        20  1090421020000000000    NaN   \n",
      "..      ...  ...  ...      ...  ...       ...                  ...    ...   \n",
      "69  1407.96  ...  NaN   475.99    1        20  1090421020000000000    NaN   \n",
      "70  1407.96  ...  NaN   723.12    1        20  1090421020000000000    NaN   \n",
      "71  1407.96  ...  NaN   711.46    1        20  1090421020000000000    NaN   \n",
      "72  1407.96  ...  NaN  1239.93    1        20  1090421020000000000    NaN   \n",
      "73  1407.96  ...  NaN  2039.74    1        20  1090421020000000000    NaN   \n",
      "\n",
      "   使用优惠政策标识 零税率标识 优惠政策说明 中外合作油气田标识  \n",
      "0         0   NaN    NaN         0  \n",
      "1         0   NaN    NaN         0  \n",
      "2         0   NaN    NaN         0  \n",
      "3         0   NaN    NaN         0  \n",
      "4         0   NaN    NaN         0  \n",
      "..      ...   ...    ...       ...  \n",
      "69        0   NaN    NaN         0  \n",
      "70        0   NaN    NaN         0  \n",
      "71        0   NaN    NaN         0  \n",
      "72        0   NaN    NaN         0  \n",
      "73        0   NaN    NaN         0  \n",
      "\n",
      "[74 rows x 21 columns]}\n"
     ]
    }
   ],
   "source": [
    "print(data)"
   ]
  },
  {
   "cell_type": "code",
   "execution_count": 32,
   "metadata": {},
   "outputs": [
    {
     "name": "stdout",
     "output_type": "stream",
     "text": [
      "74\n"
     ]
    }
   ],
   "source": [
    "length=a.shape[0]-1\n",
    "print(length)\n",
    "\n",
    "    print(a.iloc[3,9])\n",
    "    print(a.iloc[74,4])"
   ]
  },
  {
   "cell_type": "code",
   "execution_count": 6,
   "metadata": {},
   "outputs": [],
   "source": [
    "a=tp['score']"
   ]
  },
  {
   "cell_type": "code",
   "execution_count": 36,
   "metadata": {},
   "outputs": [
    {
     "data": {
      "text/plain": [
       "float"
      ]
     },
     "execution_count": 36,
     "metadata": {},
     "output_type": "execute_result"
    }
   ],
   "source": [
    "price=float(a.iloc[3,9])\n",
    "type(price)"
   ]
  },
  {
   "cell_type": "code",
   "execution_count": 50,
   "metadata": {},
   "outputs": [
    {
     "name": "stdout",
     "output_type": "stream",
     "text": [
      "           a    b\n",
      "0  your_data  NaN\n"
     ]
    }
   ],
   "source": [
    "df = pd.DataFrame(columns=['a', 'b'])\n",
    "df.at[0, 'a'] = 'your_data'\n",
    "print(df)\n"
   ]
  },
  {
   "cell_type": "code",
   "execution_count": 8,
   "metadata": {},
   "outputs": [
    {
     "name": "stdout",
     "output_type": "stream",
     "text": [
      "Note: you may need to restart the kernel to use updated packages.\n"
     ]
    },
    {
     "name": "stderr",
     "output_type": "stream",
     "text": [
      "ERROR: Could not find a version that satisfies the requirement Excelwriter (from versions: none)\n",
      "ERROR: No matching distribution found for Excelwriter\n"
     ]
    }
   ],
   "source": [
    "pip install Excelwriter"
   ]
  }
 ],
 "metadata": {
  "kernelspec": {
   "display_name": "Python 3",
   "language": "python",
   "name": "python3"
  },
  "language_info": {
   "codemirror_mode": {
    "name": "ipython",
    "version": 3
   },
   "file_extension": ".py",
   "mimetype": "text/x-python",
   "name": "python",
   "nbconvert_exporter": "python",
   "pygments_lexer": "ipython3",
   "version": "3.7.6"
  }
 },
 "nbformat": 4,
 "nbformat_minor": 4
}
